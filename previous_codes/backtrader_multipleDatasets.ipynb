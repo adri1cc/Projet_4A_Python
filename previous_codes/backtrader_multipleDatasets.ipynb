{
 "cells": [
  {
   "cell_type": "code",
   "execution_count": null,
   "metadata": {},
   "outputs": [],
   "source": [
    "import backtrader as bt\n",
    "import backtrader.analyzers as btanalyzers\n",
    "import matplotlib\n",
    "from datetime import datetime"
   ]
  },
  {
   "cell_type": "code",
   "execution_count": null,
   "metadata": {},
   "outputs": [],
   "source": [
    "class MaCrossStrategy(bt.Strategy):\n",
    " \n",
    "    params = (\n",
    "        ('fast_length', 5),\n",
    "        ('slow_length', 25), \n",
    "        ('vix_level', 30)\n",
    "    )\n",
    "     \n",
    "    def __init__(self):\n",
    "        ma_fast = bt.ind.SMA(period = self.params.fast_length)\n",
    "        ma_slow = bt.ind.SMA(period = self.params.slow_length)\n",
    "         \n",
    "        self.crossover = bt.ind.CrossOver(ma_fast, ma_slow)\n",
    "        self.vix = self.data1.close\n",
    " \n",
    "    def next(self):\n",
    "        if not self.position:\n",
    "            if self.crossover > 0 and self.vix < self.params.vix_level: \n",
    "                self.buy()\n",
    "        elif self.crossover < 0: \n",
    "            self.close()"
   ]
  },
  {
   "cell_type": "code",
   "execution_count": null,
   "metadata": {},
   "outputs": [],
   "source": [
    "cerebro = bt.Cerebro()\n",
    " \n",
    "data = bt.feeds.YahooFinanceData(dataname = 'AAPL', fromdate = datetime(2010, 1, 1), todate = datetime(2020, 1, 1))\n",
    "cerebro.adddata(data)\n",
    " \n",
    "vix = bt.feeds.YahooFinanceData(dataname = '^VIX', fromdate = datetime(2010, 1, 1), todate = datetime(2020, 1, 1))\n",
    "cerebro.adddata(vix)\n",
    " \n",
    "cerebro.addstrategy(MaCrossStrategy, fast_length = 5, slow_length = 25, vix_level = 999)\n",
    "cerebro.broker.setcash(1000000.0)\n",
    "cerebro.addsizer(bt.sizers.PercentSizer, percents = 50)\n",
    " \n",
    "cerebro.addanalyzer(btanalyzers.SharpeRatio, _name = \"sharpe\")\n",
    "cerebro.addanalyzer(btanalyzers.Returns,     _name = \"returns\")\n",
    " \n",
    "back = cerebro.run()\n",
    " \n",
    "cerebro.broker.getvalue()"
   ]
  },
  {
   "cell_type": "code",
   "execution_count": null,
   "metadata": {},
   "outputs": [],
   "source": [
    "back[0].analyzers.sharpe.get_analysis()['sharperatio']"
   ]
  },
  {
   "cell_type": "code",
   "execution_count": null,
   "metadata": {},
   "outputs": [],
   "source": [
    "back[0].analyzers.returns.get_analysis()['rnorm100']"
   ]
  }
 ],
 "metadata": {
  "language_info": {
   "name": "python"
  }
 },
 "nbformat": 4,
 "nbformat_minor": 2
}
