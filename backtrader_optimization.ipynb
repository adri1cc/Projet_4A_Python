{
 "cells": [
  {
   "cell_type": "code",
   "execution_count": 45,
   "metadata": {},
   "outputs": [],
   "source": [
    "import backtrader as bt\n",
    "import backtrader.analyzers as btanalyzers\n",
    "import pandas as pd\n",
    "import matplotlib\n",
    "from datetime import datetime\n",
    "import yfinance as yf\n",
    "import crossStrategy\n",
    "#import qgrid"
   ]
  },
  {
   "cell_type": "code",
   "execution_count": 46,
   "metadata": {},
   "outputs": [
    {
     "name": "stdout",
     "output_type": "stream",
     "text": [
      "[*********************100%%**********************]  1 of 1 completed\n"
     ]
    }
   ],
   "source": [
    "cerebro = bt.Cerebro()\n",
    "\n",
    "data = bt.feeds.PandasData(dataname=yf.download('BTC-USD', '2022-01-01', '2022-07-01', auto_adjust=True)) \n",
    "cerebro.adddata(data)\n",
    " \n",
    "strats = cerebro.optstrategy(\n",
    "        crossStrategy.MaCrossStrategy,\n",
    "        fast_length = range(1, 3), \n",
    "        slow_length = range(25, 40, 5))\n",
    " \n",
    " \n",
    "cerebro.broker.setcash(1000000.0)\n",
    " \n",
    "cerebro.addsizer(bt.sizers.PercentSizer, percents = 10)\n",
    "cerebro.addanalyzer(btanalyzers.SharpeRatio, _name = \"sharpe\")\n",
    "cerebro.addanalyzer(btanalyzers.DrawDown, _name = \"drawdown\")\n",
    "cerebro.addanalyzer(btanalyzers.Returns, _name = \"returns\")\n",
    " \n",
    "back = cerebro.run()"
   ]
  },
  {
   "cell_type": "code",
   "execution_count": 47,
   "metadata": {},
   "outputs": [],
   "source": [
    "par_list = [[x[0].params.fast_length, \n",
    "             x[0].params.slow_length,\n",
    "             x[0].analyzers.returns.get_analysis()['rnorm100'], \n",
    "             x[0].analyzers.drawdown.get_analysis()['max']['drawdown'],\n",
    "             x[0].analyzers.sharpe.get_analysis()['sharperatio']\n",
    "            ] for x in back]"
   ]
  },
  {
   "cell_type": "code",
   "execution_count": 48,
   "metadata": {},
   "outputs": [],
   "source": [
    "par_df = pd.DataFrame(par_list, columns = ['length_fast', 'length_slow', 'return', 'dd', 'sharpe'])"
   ]
  },
  {
   "cell_type": "code",
   "execution_count": 49,
   "metadata": {},
   "outputs": [
    {
     "data": {
      "text/html": [
       "<div>\n",
       "<style scoped>\n",
       "    .dataframe tbody tr th:only-of-type {\n",
       "        vertical-align: middle;\n",
       "    }\n",
       "\n",
       "    .dataframe tbody tr th {\n",
       "        vertical-align: top;\n",
       "    }\n",
       "\n",
       "    .dataframe thead th {\n",
       "        text-align: right;\n",
       "    }\n",
       "</style>\n",
       "<table border=\"1\" class=\"dataframe\">\n",
       "  <thead>\n",
       "    <tr style=\"text-align: right;\">\n",
       "      <th></th>\n",
       "      <th>length_fast</th>\n",
       "      <th>length_slow</th>\n",
       "      <th>return</th>\n",
       "      <th>dd</th>\n",
       "      <th>sharpe</th>\n",
       "    </tr>\n",
       "  </thead>\n",
       "  <tbody>\n",
       "    <tr>\n",
       "      <th>0</th>\n",
       "      <td>1</td>\n",
       "      <td>25</td>\n",
       "      <td>-3.550623</td>\n",
       "      <td>3.279833</td>\n",
       "      <td>None</td>\n",
       "    </tr>\n",
       "    <tr>\n",
       "      <th>1</th>\n",
       "      <td>1</td>\n",
       "      <td>30</td>\n",
       "      <td>-4.610995</td>\n",
       "      <td>4.044764</td>\n",
       "      <td>None</td>\n",
       "    </tr>\n",
       "    <tr>\n",
       "      <th>2</th>\n",
       "      <td>1</td>\n",
       "      <td>35</td>\n",
       "      <td>-2.440426</td>\n",
       "      <td>2.022385</td>\n",
       "      <td>None</td>\n",
       "    </tr>\n",
       "    <tr>\n",
       "      <th>3</th>\n",
       "      <td>2</td>\n",
       "      <td>25</td>\n",
       "      <td>-2.729612</td>\n",
       "      <td>2.704287</td>\n",
       "      <td>None</td>\n",
       "    </tr>\n",
       "    <tr>\n",
       "      <th>4</th>\n",
       "      <td>2</td>\n",
       "      <td>30</td>\n",
       "      <td>-4.305729</td>\n",
       "      <td>3.839225</td>\n",
       "      <td>None</td>\n",
       "    </tr>\n",
       "    <tr>\n",
       "      <th>5</th>\n",
       "      <td>2</td>\n",
       "      <td>35</td>\n",
       "      <td>-1.534624</td>\n",
       "      <td>2.018515</td>\n",
       "      <td>None</td>\n",
       "    </tr>\n",
       "  </tbody>\n",
       "</table>\n",
       "</div>"
      ],
      "text/plain": [
       "   length_fast  length_slow    return        dd sharpe\n",
       "0            1           25 -3.550623  3.279833   None\n",
       "1            1           30 -4.610995  4.044764   None\n",
       "2            1           35 -2.440426  2.022385   None\n",
       "3            2           25 -2.729612  2.704287   None\n",
       "4            2           30 -4.305729  3.839225   None\n",
       "5            2           35 -1.534624  2.018515   None"
      ]
     },
     "execution_count": 49,
     "metadata": {},
     "output_type": "execute_result"
    }
   ],
   "source": [
    "par_df"
   ]
  }
 ],
 "metadata": {
  "kernelspec": {
   "display_name": "Python 3",
   "language": "python",
   "name": "python3"
  },
  "language_info": {
   "codemirror_mode": {
    "name": "ipython",
    "version": 3
   },
   "file_extension": ".py",
   "mimetype": "text/x-python",
   "name": "python",
   "nbconvert_exporter": "python",
   "pygments_lexer": "ipython3",
   "version": "3.11.1"
  }
 },
 "nbformat": 4,
 "nbformat_minor": 2
}
