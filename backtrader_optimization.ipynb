{
 "cells": [
  {
   "cell_type": "code",
   "execution_count": 45,
   "metadata": {},
   "outputs": [],
   "source": [
    "import backtrader as bt\n",
    "import backtrader.analyzers as btanalyzers\n",
    "import pandas as pd\n",
    "import matplotlib\n",
    "from datetime import datetime\n",
    "import yfinance as yf\n",
    "import crossStrategy\n",
    "import qgrid"
   ]
  },
  {
   "cell_type": "code",
   "execution_count": 46,
   "metadata": {},
   "outputs": [
    {
     "name": "stdout",
     "output_type": "stream",
     "text": [
      "[*********************100%%**********************]  1 of 1 completed\n"
     ]
    }
   ],
   "source": [
    "cerebro = bt.Cerebro()\n",
    "\n",
    "data = bt.feeds.PandasData(dataname=yf.download('BTC-USD', '2022-01-01', '2023-01-01', auto_adjust=True)) \n",
    "cerebro.adddata(data)\n",
    " \n",
    "strats = cerebro.optstrategy(\n",
    "        crossStrategy.MaCrossStrategy,\n",
    "        fast_length = range(1,20,2), \n",
    "        slow_length = range(25, 60, 5))\n",
    " \n",
    " \n",
    "cerebro.broker.setcash(1000000.0)\n",
    " \n",
    "cerebro.addsizer(bt.sizers.PercentSizer, percents = 10)\n",
    "cerebro.addanalyzer(btanalyzers.SharpeRatio, _name = \"sharpe\")\n",
    "cerebro.addanalyzer(btanalyzers.DrawDown, _name = \"drawdown\")\n",
    "cerebro.addanalyzer(btanalyzers.Returns, _name = \"returns\")\n",
    " \n",
    "back = cerebro.run()"
   ]
  },
  {
   "cell_type": "code",
   "execution_count": 47,
   "metadata": {},
   "outputs": [],
   "source": [
    "par_list = [[x[0].params.fast_length, \n",
    "             x[0].params.slow_length,\n",
    "             x[0].analyzers.returns.get_analysis()['rnorm100'], \n",
    "             x[0].analyzers.drawdown.get_analysis()['max']['drawdown'],\n",
    "             x[0].analyzers.sharpe.get_analysis()['sharperatio']\n",
    "            ] for x in back]"
   ]
  },
  {
   "cell_type": "code",
   "execution_count": 48,
   "metadata": {},
   "outputs": [],
   "source": [
    "par_df = pd.DataFrame(par_list, columns = ['length_fast', 'length_slow', 'return', 'dd', 'sharpe'])"
   ]
  },
  {
   "cell_type": "code",
   "execution_count": 50,
   "metadata": {},
   "outputs": [
    {
     "data": {
      "application/vnd.jupyter.widget-view+json": {
       "model_id": "bc771d5ce4e44f449a8f1c9add632c67",
       "version_major": 2,
       "version_minor": 0
      },
      "text/plain": [
       "QgridWidget(grid_options={'fullWidthRows': True, 'syncColumnCellResize': True, 'forceFitColumns': True, 'defau…"
      ]
     },
     "metadata": {},
     "output_type": "display_data"
    }
   ],
   "source": [
    "qgrid.enable()\n",
    "qgrid.show_grid(par_df)"
   ]
  }
 ],
 "metadata": {
  "kernelspec": {
   "display_name": "Python 3",
   "language": "python",
   "name": "python3"
  },
  "language_info": {
   "codemirror_mode": {
    "name": "ipython",
    "version": 3
   },
   "file_extension": ".py",
   "mimetype": "text/x-python",
   "name": "python",
   "nbconvert_exporter": "python",
   "pygments_lexer": "ipython3",
   "version": "3.11.1"
  }
 },
 "nbformat": 4,
 "nbformat_minor": 2
}
