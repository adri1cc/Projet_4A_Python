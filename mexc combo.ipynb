{
 "cells": [
  {
   "cell_type": "code",
   "execution_count": 2,
   "metadata": {},
   "outputs": [],
   "source": [
    "import ccxt\n",
    "import dontshare_config as dc\n",
    "import pandas as pd\n",
    "from datetime import datetime\n",
    "import matplotlib.pyplot as plt\n",
    "import plotly.graph_objects as go"
   ]
  },
  {
   "cell_type": "code",
   "execution_count": 5,
   "metadata": {},
   "outputs": [],
   "source": [
    "# Créer une instance du client Mexc\n",
    "mexc = ccxt.mexc({\n",
    "    'apiKey': dc.API_KEY_MEXC,# Clé API publique\n",
    "    'secret': dc.API_SECRET_MEXC, # Clé API privée\n",
    "    'enableRateLimit': True,  # Activer la limite de taux si nécessaire\n",
    "})\n",
    "\n",
    "mexc_futures = ccxt.mexc({\n",
    "    'apiKey': dc.API_KEY_MEXC,\n",
    "    'secret': dc.API_SECRET_MEXC,\n",
    "    'enableRateLimit': True,  # Activer la limite de taux si nécessaire\n",
    "    \"options\": {'defaultType': 'swap' } # Défini comppte FUTURES\n",
    "})\n",
    "\n",
    "binance_testnet = ccxt.binance({\n",
    "    'apiKey': dc.API_KEY_BINANCE,\n",
    "    'secret': dc.API_SECRET_BINANCE,\n",
    "    'enableRateLimit': True,  # Activer la limite de taux si nécessaire\n",
    "})\n",
    "\n",
    "coinbase_testnet = ccxt.coinbase({\n",
    "    'apiKey': dc.API_KEY_COINBASE,\n",
    "    'secret': dc.API_SECRET_COINBASE,\n",
    "    'enableRateLimit': True,  # Activer la limite de taux si nécessaire\n",
    "})\n",
    "\n",
    "exchange = coinbase_testnet # Choix de l'exchange sur lequel les opérations sont éffectuées\n",
    "#exchange.set_sandbox_mode(True)  # enable sandbox mode"
   ]
  },
  {
   "cell_type": "markdown",
   "metadata": {},
   "source": [
    "Récupération du compte\n"
   ]
  },
  {
   "cell_type": "code",
   "execution_count": 6,
   "metadata": {},
   "outputs": [
    {
     "name": "stdout",
     "output_type": "stream",
     "text": [
      "Erreur d'échange :  AuthenticationError coinbase GET https://api.coinbase.com/api/v3/brokerage/products 401 Unauthorized Unauthorized\n"
     ]
    }
   ],
   "source": [
    "try:\n",
    "    balance = exchange.fetch_balance()\n",
    "\n",
    "    # Créer un DataFrame pandas pour stocker les informations du compte\n",
    "    account_info = {\n",
    "        'Currency': [],\n",
    "        'Total': [],\n",
    "        'Free': [],\n",
    "        'Used': [],\n",
    "    }\n",
    "\n",
    "    for currency, data in balance['total'].items():\n",
    "        account_info['Currency'].append(currency)\n",
    "        account_info['Total'].append(data)\n",
    "        account_info['Free'].append(balance['free'][currency])\n",
    "        account_info['Used'].append(balance['used'][currency])\n",
    "\n",
    "    df_account = pd.DataFrame(account_info)\n",
    "\n",
    "    # Afficher le DataFrame\n",
    "    print(df_account)\n",
    "\n",
    "except ccxt.NetworkError as e:\n",
    "    print('Problème de connexion : ', type(e).__name__, str(e))\n",
    "except ccxt.ExchangeError as e:\n",
    "    print('Erreur d\\'échange : ', type(e).__name__, str(e))\n",
    "except Exception as e:\n",
    "    print('Une erreur s\\'est produite : ', type(e).__name__, str(e))"
   ]
  },
  {
   "cell_type": "markdown",
   "metadata": {},
   "source": [
    "Récupération des dernières bougies\n"
   ]
  },
  {
   "cell_type": "code",
   "execution_count": 7,
   "metadata": {},
   "outputs": [
    {
     "name": "stdout",
     "output_type": "stream",
     "text": [
      "Erreur d'échange :  AuthenticationError coinbase GET https://api.coinbase.com/api/v3/brokerage/products 401 Unauthorized Unauthorized\n"
     ]
    }
   ],
   "source": [
    "# Paramètres pour la récupération des bougies\n",
    "symbol = 'BTC/USDT'\n",
    "timeframe = \"1m\"\n",
    "\n",
    "# Récupérer les bougies\n",
    "try:\n",
    "    candles = exchange.fetch_ohlcv(symbol, timeframe)\n",
    "    \n",
    "    # Créer une liste pour stocker les données des bougies\n",
    "    candle_data = []\n",
    "\n",
    "    for candle in candles:\n",
    "        timestamp, open_, high, low, close, volume = candle\n",
    "        dt_object = datetime.utcfromtimestamp(timestamp / 1000)  # Convertir le timestamp en objet datetime\n",
    "        candle_data.append([dt_object, open_, high, low, close, volume])\n",
    "\n",
    "    # Créer un DataFrame pandas\n",
    "    columns = ['Timestamp', 'Open', 'High', 'Low', 'Close', 'Volume']\n",
    "    df = pd.DataFrame(candle_data, columns=columns)\n",
    "\n",
    "    # Afficher le DataFrame\n",
    "    print(df)\n",
    "\n",
    "except ccxt.NetworkError as e:\n",
    "    print('Problème de connexion : ', type(e).__name__, str(e))\n",
    "except ccxt.ExchangeError as e:\n",
    "    print('Erreur d\\'échange : ', type(e).__name__, str(e))\n",
    "except Exception as e:\n",
    "    print('Une erreur s\\'est produite : ', type(e).__name__, str(e))\n"
   ]
  },
  {
   "cell_type": "code",
   "execution_count": 8,
   "metadata": {},
   "outputs": [
    {
     "name": "stdout",
     "output_type": "stream",
     "text": [
      "An error occurred:  TypeError coinbase.create_order() got an unexpected keyword argument 'stopPrice'\n"
     ]
    }
   ],
   "source": [
    "def place_order(symbol, direction, leverage, stop_loss, take_profit, investment_value, limit_price):\n",
    "\n",
    "    # Direction : long or short\n",
    "    # \n",
    "\n",
    "    # Order parameters\n",
    "    side = 'buy' if direction == 'long' else 'sell'\n",
    "    leverage = leverage\n",
    "\n",
    "    # Create the order\n",
    "    order_params = {\n",
    "        'symbol': symbol,\n",
    "        'side': side,\n",
    "        'type': 'limit',  # You can adjust the order type according to your needs\n",
    "        'amount': investment_value,\n",
    "        'stopPrice': stop_loss,\n",
    "        'takeProfitPrice': take_profit,\n",
    "        'price': limit_price,  # Specify the limit price\n",
    "    }\n",
    "\n",
    "    try:\n",
    "        # Place the order\n",
    "        order = exchange.create_order(**order_params)\n",
    "        print('Order placed successfully:', order)\n",
    "\n",
    "    except ccxt.NetworkError as e:\n",
    "        print('Connection problem: ', type(e).__name__, str(e))\n",
    "    except ccxt.ExchangeError as e:\n",
    "        print('Exchange error: ', type(e).__name__, str(e))\n",
    "    except Exception as e:\n",
    "        print('An error occurred: ', type(e).__name__, str(e))\n",
    "\n",
    "# Example of usage for a limit order\n",
    "place_order('BTC/USDT', 'long', 10, 50000, 60000, 1, 55000)\n",
    "\n"
   ]
  },
  {
   "cell_type": "code",
   "execution_count": 13,
   "metadata": {},
   "outputs": [
    {
     "ename": "ExchangeError",
     "evalue": "mexc {\"code\":10004,\"msg\":\"symbol not support api\"}",
     "output_type": "error",
     "traceback": [
      "\u001b[1;31m---------------------------------------------------------------------------\u001b[0m",
      "\u001b[1;31mHTTPError\u001b[0m                                 Traceback (most recent call last)",
      "File \u001b[1;32mc:\\Users\\Paulin\\Documents\\Etudes\\4A\\Computer science\\Nouveau dossier\\Projet_4A_Python\\.venv\\Lib\\site-packages\\ccxt\\base\\exchange.py:613\u001b[0m, in \u001b[0;36mExchange.fetch\u001b[1;34m(self, url, method, headers, body)\u001b[0m\n\u001b[0;32m    612\u001b[0m     \u001b[39mself\u001b[39m\u001b[39m.\u001b[39mlogger\u001b[39m.\u001b[39mdebug(\u001b[39m\"\u001b[39m\u001b[39m%s\u001b[39;00m\u001b[39m \u001b[39m\u001b[39m%s\u001b[39;00m\u001b[39m, Response: \u001b[39m\u001b[39m%s\u001b[39;00m\u001b[39m \u001b[39m\u001b[39m%s\u001b[39;00m\u001b[39m \u001b[39m\u001b[39m%s\u001b[39;00m\u001b[39m\"\u001b[39m, method, url, http_status_code, headers, http_response)\n\u001b[1;32m--> 613\u001b[0m     response\u001b[39m.\u001b[39;49mraise_for_status()\n\u001b[0;32m    615\u001b[0m \u001b[39mexcept\u001b[39;00m Timeout \u001b[39mas\u001b[39;00m e:\n",
      "File \u001b[1;32mc:\\Users\\Paulin\\Documents\\Etudes\\4A\\Computer science\\Nouveau dossier\\Projet_4A_Python\\.venv\\Lib\\site-packages\\requests\\models.py:1021\u001b[0m, in \u001b[0;36mResponse.raise_for_status\u001b[1;34m(self)\u001b[0m\n\u001b[0;32m   1020\u001b[0m \u001b[39mif\u001b[39;00m http_error_msg:\n\u001b[1;32m-> 1021\u001b[0m     \u001b[39mraise\u001b[39;00m HTTPError(http_error_msg, response\u001b[39m=\u001b[39m\u001b[39mself\u001b[39m)\n",
      "\u001b[1;31mHTTPError\u001b[0m: 400 Client Error: Bad Request for url: https://api.mexc.com/api/v3/order?symbol=ETHBTC&side=BUY&type=LIMIT&quantity=123.45&price=115.321&stopLoss=%7B%27type%27%3A%20%27limit%27%2C%20%27price%27%3A%20100.33%2C%20%27triggerPrice%27%3A%20101.25%7D&takeProfit=%7B%27type%27%3A%20%27market%27%2C%20%27triggerPrice%27%3A%20150.75%7D&timestamp=1699906354491&recvWindow=5000&signature=528cdc1028973d93389922784e390d1640417ec1659d09861acbbe65e1804cf4",
      "\nDuring handling of the above exception, another exception occurred:\n",
      "\u001b[1;31mExchangeError\u001b[0m                             Traceback (most recent call last)",
      "\u001b[1;32mc:\\Users\\Paulin\\Documents\\Etudes\\4A\\Computer science\\Nouveau dossier\\Projet_4A_Python\\mexc combo.ipynb Cell 8\u001b[0m line \u001b[0;36m1\n\u001b[0;32m      <a href='vscode-notebook-cell:/c%3A/Users/Paulin/Documents/Etudes/4A/Computer%20science/Nouveau%20dossier/Projet_4A_Python/mexc%20combo.ipynb#X10sZmlsZQ%3D%3D?line=4'>5</a>\u001b[0m price \u001b[39m=\u001b[39m \u001b[39m115.321\u001b[39m  \u001b[39m# your price\u001b[39;00m\n\u001b[0;32m      <a href='vscode-notebook-cell:/c%3A/Users/Paulin/Documents/Etudes/4A/Computer%20science/Nouveau%20dossier/Projet_4A_Python/mexc%20combo.ipynb#X10sZmlsZQ%3D%3D?line=5'>6</a>\u001b[0m params \u001b[39m=\u001b[39m {\n\u001b[0;32m      <a href='vscode-notebook-cell:/c%3A/Users/Paulin/Documents/Etudes/4A/Computer%20science/Nouveau%20dossier/Projet_4A_Python/mexc%20combo.ipynb#X10sZmlsZQ%3D%3D?line=6'>7</a>\u001b[0m     \u001b[39m'\u001b[39m\u001b[39mstopLoss\u001b[39m\u001b[39m'\u001b[39m: {\n\u001b[0;32m      <a href='vscode-notebook-cell:/c%3A/Users/Paulin/Documents/Etudes/4A/Computer%20science/Nouveau%20dossier/Projet_4A_Python/mexc%20combo.ipynb#X10sZmlsZQ%3D%3D?line=7'>8</a>\u001b[0m         \u001b[39m'\u001b[39m\u001b[39mtype\u001b[39m\u001b[39m'\u001b[39m: \u001b[39m'\u001b[39m\u001b[39mlimit\u001b[39m\u001b[39m'\u001b[39m,  \u001b[39m# or 'market', this field is not necessary if limit price is specified\u001b[39;00m\n\u001b[1;32m   (...)\u001b[0m\n\u001b[0;32m     <a href='vscode-notebook-cell:/c%3A/Users/Paulin/Documents/Etudes/4A/Computer%20science/Nouveau%20dossier/Projet_4A_Python/mexc%20combo.ipynb#X10sZmlsZQ%3D%3D?line=16'>17</a>\u001b[0m     }\n\u001b[0;32m     <a href='vscode-notebook-cell:/c%3A/Users/Paulin/Documents/Etudes/4A/Computer%20science/Nouveau%20dossier/Projet_4A_Python/mexc%20combo.ipynb#X10sZmlsZQ%3D%3D?line=17'>18</a>\u001b[0m }\n\u001b[1;32m---> <a href='vscode-notebook-cell:/c%3A/Users/Paulin/Documents/Etudes/4A/Computer%20science/Nouveau%20dossier/Projet_4A_Python/mexc%20combo.ipynb#X10sZmlsZQ%3D%3D?line=18'>19</a>\u001b[0m order \u001b[39m=\u001b[39m exchange\u001b[39m.\u001b[39;49mcreate_order (symbol, \u001b[39mtype\u001b[39;49m, side, amount, price, params)\n",
      "File \u001b[1;32mc:\\Users\\Paulin\\Documents\\Etudes\\4A\\Computer science\\Nouveau dossier\\Projet_4A_Python\\.venv\\Lib\\site-packages\\ccxt\\mexc.py:2000\u001b[0m, in \u001b[0;36mmexc.create_order\u001b[1;34m(self, symbol, type, side, amount, price, params)\u001b[0m\n\u001b[0;32m   1998\u001b[0m marginMode, query \u001b[39m=\u001b[39m \u001b[39mself\u001b[39m\u001b[39m.\u001b[39mhandle_margin_mode_and_params(\u001b[39m'\u001b[39m\u001b[39mcreateOrder\u001b[39m\u001b[39m'\u001b[39m, params)\n\u001b[0;32m   1999\u001b[0m \u001b[39mif\u001b[39;00m market[\u001b[39m'\u001b[39m\u001b[39mspot\u001b[39m\u001b[39m'\u001b[39m]:\n\u001b[1;32m-> 2000\u001b[0m     \u001b[39mreturn\u001b[39;00m \u001b[39mself\u001b[39;49m\u001b[39m.\u001b[39;49mcreate_spot_order(market, \u001b[39mtype\u001b[39;49m, side, amount, price, marginMode, query)\n\u001b[0;32m   2001\u001b[0m \u001b[39melse\u001b[39;00m:\n\u001b[0;32m   2002\u001b[0m     \u001b[39mreturn\u001b[39;00m \u001b[39mself\u001b[39m\u001b[39m.\u001b[39mcreate_swap_order(market, \u001b[39mtype\u001b[39m, side, amount, price, marginMode, query)\n",
      "File \u001b[1;32mc:\\Users\\Paulin\\Documents\\Etudes\\4A\\Computer science\\Nouveau dossier\\Projet_4A_Python\\.venv\\Lib\\site-packages\\ccxt\\mexc.py:2049\u001b[0m, in \u001b[0;36mmexc.create_spot_order\u001b[1;34m(self, market, type, side, amount, price, marginMode, params)\u001b[0m\n\u001b[0;32m   2047\u001b[0m     response \u001b[39m=\u001b[39m \u001b[39mself\u001b[39m\u001b[39m.\u001b[39mspotPrivatePostMarginOrder(\u001b[39mself\u001b[39m\u001b[39m.\u001b[39mextend(request, params))\n\u001b[0;32m   2048\u001b[0m \u001b[39melse\u001b[39;00m:\n\u001b[1;32m-> 2049\u001b[0m     response \u001b[39m=\u001b[39m \u001b[39mself\u001b[39;49m\u001b[39m.\u001b[39;49mspotPrivatePostOrder(\u001b[39mself\u001b[39;49m\u001b[39m.\u001b[39;49mextend(request, params))\n\u001b[0;32m   2050\u001b[0m \u001b[39m#\u001b[39;00m\n\u001b[0;32m   2051\u001b[0m \u001b[39m# spot\u001b[39;00m\n\u001b[0;32m   2052\u001b[0m \u001b[39m#\u001b[39;00m\n\u001b[1;32m   (...)\u001b[0m\n\u001b[0;32m   2067\u001b[0m \u001b[39m#     }\u001b[39;00m\n\u001b[0;32m   2068\u001b[0m \u001b[39m#\u001b[39;00m\n\u001b[0;32m   2069\u001b[0m order \u001b[39m=\u001b[39m \u001b[39mself\u001b[39m\u001b[39m.\u001b[39mparse_order(response, market)\n",
      "File \u001b[1;32mc:\\Users\\Paulin\\Documents\\Etudes\\4A\\Computer science\\Nouveau dossier\\Projet_4A_Python\\.venv\\Lib\\site-packages\\ccxt\\base\\types.py:28\u001b[0m, in \u001b[0;36mEntry.__init__.<locals>.unbound_method\u001b[1;34m(_self, params)\u001b[0m\n\u001b[0;32m     27\u001b[0m \u001b[39mdef\u001b[39;00m \u001b[39munbound_method\u001b[39m(_self, params\u001b[39m=\u001b[39m{}):\n\u001b[1;32m---> 28\u001b[0m     \u001b[39mreturn\u001b[39;00m _self\u001b[39m.\u001b[39;49mrequest(\u001b[39mself\u001b[39;49m\u001b[39m.\u001b[39;49mpath, \u001b[39mself\u001b[39;49m\u001b[39m.\u001b[39;49mapi, \u001b[39mself\u001b[39;49m\u001b[39m.\u001b[39;49mmethod, params, config\u001b[39m=\u001b[39;49m\u001b[39mself\u001b[39;49m\u001b[39m.\u001b[39;49mconfig)\n",
      "File \u001b[1;32mc:\\Users\\Paulin\\Documents\\Etudes\\4A\\Computer science\\Nouveau dossier\\Projet_4A_Python\\.venv\\Lib\\site-packages\\ccxt\\base\\exchange.py:3198\u001b[0m, in \u001b[0;36mExchange.request\u001b[1;34m(self, path, api, method, params, headers, body, config)\u001b[0m\n\u001b[0;32m   3197\u001b[0m \u001b[39mdef\u001b[39;00m \u001b[39mrequest\u001b[39m(\u001b[39mself\u001b[39m, path, api: Any \u001b[39m=\u001b[39m \u001b[39m'\u001b[39m\u001b[39mpublic\u001b[39m\u001b[39m'\u001b[39m, method\u001b[39m=\u001b[39m\u001b[39m'\u001b[39m\u001b[39mGET\u001b[39m\u001b[39m'\u001b[39m, params\u001b[39m=\u001b[39m{}, headers: Optional[Any] \u001b[39m=\u001b[39m \u001b[39mNone\u001b[39;00m, body: Optional[Any] \u001b[39m=\u001b[39m \u001b[39mNone\u001b[39;00m, config\u001b[39m=\u001b[39m{}):\n\u001b[1;32m-> 3198\u001b[0m     \u001b[39mreturn\u001b[39;00m \u001b[39mself\u001b[39;49m\u001b[39m.\u001b[39;49mfetch2(path, api, method, params, headers, body, config)\n",
      "File \u001b[1;32mc:\\Users\\Paulin\\Documents\\Etudes\\4A\\Computer science\\Nouveau dossier\\Projet_4A_Python\\.venv\\Lib\\site-packages\\ccxt\\base\\exchange.py:3195\u001b[0m, in \u001b[0;36mExchange.fetch2\u001b[1;34m(self, path, api, method, params, headers, body, config)\u001b[0m\n\u001b[0;32m   3193\u001b[0m \u001b[39mself\u001b[39m\u001b[39m.\u001b[39mlast_request_body \u001b[39m=\u001b[39m request[\u001b[39m'\u001b[39m\u001b[39mbody\u001b[39m\u001b[39m'\u001b[39m]\n\u001b[0;32m   3194\u001b[0m \u001b[39mself\u001b[39m\u001b[39m.\u001b[39mlast_request_url \u001b[39m=\u001b[39m request[\u001b[39m'\u001b[39m\u001b[39murl\u001b[39m\u001b[39m'\u001b[39m]\n\u001b[1;32m-> 3195\u001b[0m \u001b[39mreturn\u001b[39;00m \u001b[39mself\u001b[39;49m\u001b[39m.\u001b[39;49mfetch(request[\u001b[39m'\u001b[39;49m\u001b[39murl\u001b[39;49m\u001b[39m'\u001b[39;49m], request[\u001b[39m'\u001b[39;49m\u001b[39mmethod\u001b[39;49m\u001b[39m'\u001b[39;49m], request[\u001b[39m'\u001b[39;49m\u001b[39mheaders\u001b[39;49m\u001b[39m'\u001b[39;49m], request[\u001b[39m'\u001b[39;49m\u001b[39mbody\u001b[39;49m\u001b[39m'\u001b[39;49m])\n",
      "File \u001b[1;32mc:\\Users\\Paulin\\Documents\\Etudes\\4A\\Computer science\\Nouveau dossier\\Projet_4A_Python\\.venv\\Lib\\site-packages\\ccxt\\base\\exchange.py:629\u001b[0m, in \u001b[0;36mExchange.fetch\u001b[1;34m(self, url, method, headers, body)\u001b[0m\n\u001b[0;32m    627\u001b[0m \u001b[39mexcept\u001b[39;00m HTTPError \u001b[39mas\u001b[39;00m e:\n\u001b[0;32m    628\u001b[0m     details \u001b[39m=\u001b[39m \u001b[39m'\u001b[39m\u001b[39m \u001b[39m\u001b[39m'\u001b[39m\u001b[39m.\u001b[39mjoin([\u001b[39mself\u001b[39m\u001b[39m.\u001b[39mid, method, url])\n\u001b[1;32m--> 629\u001b[0m     skip_further_error_handling \u001b[39m=\u001b[39m \u001b[39mself\u001b[39;49m\u001b[39m.\u001b[39;49mhandle_errors(http_status_code, http_status_text, url, method, headers, http_response, json_response, request_headers, request_body)\n\u001b[0;32m    630\u001b[0m     \u001b[39mif\u001b[39;00m \u001b[39mnot\u001b[39;00m skip_further_error_handling:\n\u001b[0;32m    631\u001b[0m         \u001b[39mself\u001b[39m\u001b[39m.\u001b[39mhandle_http_status_code(http_status_code, http_status_text, url, method, http_response)\n",
      "File \u001b[1;32mc:\\Users\\Paulin\\Documents\\Etudes\\4A\\Computer science\\Nouveau dossier\\Projet_4A_Python\\.venv\\Lib\\site-packages\\ccxt\\mexc.py:5070\u001b[0m, in \u001b[0;36mmexc.handle_errors\u001b[1;34m(self, code, reason, url, method, headers, body, response, requestHeaders, requestBody)\u001b[0m\n\u001b[0;32m   5068\u001b[0m     \u001b[39mself\u001b[39m\u001b[39m.\u001b[39mthrow_broadly_matched_exception(\u001b[39mself\u001b[39m\u001b[39m.\u001b[39mexceptions[\u001b[39m'\u001b[39m\u001b[39mbroad\u001b[39m\u001b[39m'\u001b[39m], body, feedback)\n\u001b[0;32m   5069\u001b[0m     \u001b[39mself\u001b[39m\u001b[39m.\u001b[39mthrow_exactly_matched_exception(\u001b[39mself\u001b[39m\u001b[39m.\u001b[39mexceptions[\u001b[39m'\u001b[39m\u001b[39mexact\u001b[39m\u001b[39m'\u001b[39m], responseCode, feedback)\n\u001b[1;32m-> 5070\u001b[0m     \u001b[39mraise\u001b[39;00m ExchangeError(feedback)\n\u001b[0;32m   5071\u001b[0m \u001b[39mreturn\u001b[39;00m \u001b[39mNone\u001b[39;00m\n",
      "\u001b[1;31mExchangeError\u001b[0m: mexc {\"code\":10004,\"msg\":\"symbol not support api\"}"
     ]
    }
   ],
   "source": [
    "symbol = 'ETH/BTC'\n",
    "type = 'limit'  # or 'market'\n",
    "side = 'buy'\n",
    "amount = 123.45  # your amount\n",
    "price = 115.321  # your price\n",
    "params = {\n",
    "    'stopLoss': {\n",
    "        'type': 'limit',  # or 'market', this field is not necessary if limit price is specified\n",
    "        'price': 100.33,  # limit price for a limit stop loss order\n",
    "        'triggerPrice': 101.25,\n",
    "    },\n",
    "    'takeProfit': {\n",
    "        'type': 'market',  # or 'limit', this field is not necessary if limit price is specified\n",
    "        # no limit price for a market take profit order\n",
    "        # 'price': 160.33,  # this field is not necessary for a market take profit order\n",
    "        'triggerPrice': 150.75,\n",
    "    }\n",
    "}\n",
    "order = exchange.create_order (symbol, type, side, amount, price, params)"
   ]
  },
  {
   "cell_type": "code",
   "execution_count": 64,
   "metadata": {},
   "outputs": [
    {
     "data": {
      "text/plain": [
       "{'id': 'C01__352873160120553473',\n",
       " 'clientOrderId': None,\n",
       " 'timestamp': 1699913753305,\n",
       " 'datetime': '2023-11-13T22:15:53.305Z',\n",
       " 'lastTradeTimestamp': None,\n",
       " 'status': None,\n",
       " 'symbol': 'SOL/USDC',\n",
       " 'type': 'limit',\n",
       " 'timeInForce': None,\n",
       " 'side': 'buy',\n",
       " 'price': 800,\n",
       " 'stopPrice': None,\n",
       " 'triggerPrice': None,\n",
       " 'average': None,\n",
       " 'amount': 0.01,\n",
       " 'cost': None,\n",
       " 'filled': None,\n",
       " 'remaining': None,\n",
       " 'fee': None,\n",
       " 'trades': [],\n",
       " 'info': {'symbol': 'SOLUSDC',\n",
       "  'orderId': 'C01__352873160120553473',\n",
       "  'orderListId': '-1',\n",
       "  'price': '800',\n",
       "  'origQty': '0.01',\n",
       "  'type': 'LIMIT',\n",
       "  'side': 'BUY',\n",
       "  'transactTime': '1699913753305'},\n",
       " 'fees': [],\n",
       " 'lastUpdateTimestamp': None,\n",
       " 'postOnly': None,\n",
       " 'reduceOnly': None,\n",
       " 'takeProfitPrice': None,\n",
       " 'stopLossPrice': None}"
      ]
     },
     "execution_count": 64,
     "metadata": {},
     "output_type": "execute_result"
    }
   ],
   "source": [
    "exchange.create_order ('SOL/USDC', 'limit', 'buy', 0.01, 800)"
   ]
  },
  {
   "cell_type": "code",
   "execution_count": 71,
   "metadata": {},
   "outputs": [
    {
     "ename": "ExchangeError",
     "evalue": "mexc {\"code\":10004,\"msg\":\"symbol not support api\"}",
     "output_type": "error",
     "traceback": [
      "\u001b[1;31m---------------------------------------------------------------------------\u001b[0m",
      "\u001b[1;31mHTTPError\u001b[0m                                 Traceback (most recent call last)",
      "File \u001b[1;32mc:\\Users\\Paulin\\Documents\\Etudes\\4A\\Computer science\\Nouveau dossier\\Projet_4A_Python\\.venv\\Lib\\site-packages\\ccxt\\base\\exchange.py:613\u001b[0m, in \u001b[0;36mExchange.fetch\u001b[1;34m(self, url, method, headers, body)\u001b[0m\n\u001b[0;32m    612\u001b[0m     \u001b[39mself\u001b[39m\u001b[39m.\u001b[39mlogger\u001b[39m.\u001b[39mdebug(\u001b[39m\"\u001b[39m\u001b[39m%s\u001b[39;00m\u001b[39m \u001b[39m\u001b[39m%s\u001b[39;00m\u001b[39m, Response: \u001b[39m\u001b[39m%s\u001b[39;00m\u001b[39m \u001b[39m\u001b[39m%s\u001b[39;00m\u001b[39m \u001b[39m\u001b[39m%s\u001b[39;00m\u001b[39m\"\u001b[39m, method, url, http_status_code, headers, http_response)\n\u001b[1;32m--> 613\u001b[0m     response\u001b[39m.\u001b[39;49mraise_for_status()\n\u001b[0;32m    615\u001b[0m \u001b[39mexcept\u001b[39;00m Timeout \u001b[39mas\u001b[39;00m e:\n",
      "File \u001b[1;32mc:\\Users\\Paulin\\Documents\\Etudes\\4A\\Computer science\\Nouveau dossier\\Projet_4A_Python\\.venv\\Lib\\site-packages\\requests\\models.py:1021\u001b[0m, in \u001b[0;36mResponse.raise_for_status\u001b[1;34m(self)\u001b[0m\n\u001b[0;32m   1020\u001b[0m \u001b[39mif\u001b[39;00m http_error_msg:\n\u001b[1;32m-> 1021\u001b[0m     \u001b[39mraise\u001b[39;00m HTTPError(http_error_msg, response\u001b[39m=\u001b[39m\u001b[39mself\u001b[39m)\n",
      "\u001b[1;31mHTTPError\u001b[0m: 400 Client Error: Bad Request for url: https://api.mexc.com/api/v3/order?symbol=SOLUSDT&side=BUY&type=LIMIT&quantity=0.6&price=10&timestamp=1699914327681&recvWindow=5000&signature=7c45d492639d58f087fdc4642d07f64e28120640b5c588b8cc8d9be31e1d2e63",
      "\nDuring handling of the above exception, another exception occurred:\n",
      "\u001b[1;31mExchangeError\u001b[0m                             Traceback (most recent call last)",
      "\u001b[1;32mc:\\Users\\Paulin\\Documents\\Etudes\\4A\\Computer science\\Nouveau dossier\\Projet_4A_Python\\mexc combo.ipynb Cell 10\u001b[0m line \u001b[0;36m1\n\u001b[1;32m----> <a href='vscode-notebook-cell:/c%3A/Users/Paulin/Documents/Etudes/4A/Computer%20science/Nouveau%20dossier/Projet_4A_Python/mexc%20combo.ipynb#X12sZmlsZQ%3D%3D?line=0'>1</a>\u001b[0m exchange\u001b[39m.\u001b[39;49mcreate_order (\u001b[39m'\u001b[39;49m\u001b[39mSOL/USDT\u001b[39;49m\u001b[39m'\u001b[39;49m, \u001b[39m'\u001b[39;49m\u001b[39mlimit\u001b[39;49m\u001b[39m'\u001b[39;49m, \u001b[39m'\u001b[39;49m\u001b[39mbuy\u001b[39;49m\u001b[39m'\u001b[39;49m, \u001b[39m0.6\u001b[39;49m, \u001b[39m10\u001b[39;49m)\n",
      "File \u001b[1;32mc:\\Users\\Paulin\\Documents\\Etudes\\4A\\Computer science\\Nouveau dossier\\Projet_4A_Python\\.venv\\Lib\\site-packages\\ccxt\\mexc.py:2000\u001b[0m, in \u001b[0;36mmexc.create_order\u001b[1;34m(self, symbol, type, side, amount, price, params)\u001b[0m\n\u001b[0;32m   1998\u001b[0m marginMode, query \u001b[39m=\u001b[39m \u001b[39mself\u001b[39m\u001b[39m.\u001b[39mhandle_margin_mode_and_params(\u001b[39m'\u001b[39m\u001b[39mcreateOrder\u001b[39m\u001b[39m'\u001b[39m, params)\n\u001b[0;32m   1999\u001b[0m \u001b[39mif\u001b[39;00m market[\u001b[39m'\u001b[39m\u001b[39mspot\u001b[39m\u001b[39m'\u001b[39m]:\n\u001b[1;32m-> 2000\u001b[0m     \u001b[39mreturn\u001b[39;00m \u001b[39mself\u001b[39;49m\u001b[39m.\u001b[39;49mcreate_spot_order(market, \u001b[39mtype\u001b[39;49m, side, amount, price, marginMode, query)\n\u001b[0;32m   2001\u001b[0m \u001b[39melse\u001b[39;00m:\n\u001b[0;32m   2002\u001b[0m     \u001b[39mreturn\u001b[39;00m \u001b[39mself\u001b[39m\u001b[39m.\u001b[39mcreate_swap_order(market, \u001b[39mtype\u001b[39m, side, amount, price, marginMode, query)\n",
      "File \u001b[1;32mc:\\Users\\Paulin\\Documents\\Etudes\\4A\\Computer science\\Nouveau dossier\\Projet_4A_Python\\.venv\\Lib\\site-packages\\ccxt\\mexc.py:2049\u001b[0m, in \u001b[0;36mmexc.create_spot_order\u001b[1;34m(self, market, type, side, amount, price, marginMode, params)\u001b[0m\n\u001b[0;32m   2047\u001b[0m     response \u001b[39m=\u001b[39m \u001b[39mself\u001b[39m\u001b[39m.\u001b[39mspotPrivatePostMarginOrder(\u001b[39mself\u001b[39m\u001b[39m.\u001b[39mextend(request, params))\n\u001b[0;32m   2048\u001b[0m \u001b[39melse\u001b[39;00m:\n\u001b[1;32m-> 2049\u001b[0m     response \u001b[39m=\u001b[39m \u001b[39mself\u001b[39;49m\u001b[39m.\u001b[39;49mspotPrivatePostOrder(\u001b[39mself\u001b[39;49m\u001b[39m.\u001b[39;49mextend(request, params))\n\u001b[0;32m   2050\u001b[0m \u001b[39m#\u001b[39;00m\n\u001b[0;32m   2051\u001b[0m \u001b[39m# spot\u001b[39;00m\n\u001b[0;32m   2052\u001b[0m \u001b[39m#\u001b[39;00m\n\u001b[1;32m   (...)\u001b[0m\n\u001b[0;32m   2067\u001b[0m \u001b[39m#     }\u001b[39;00m\n\u001b[0;32m   2068\u001b[0m \u001b[39m#\u001b[39;00m\n\u001b[0;32m   2069\u001b[0m order \u001b[39m=\u001b[39m \u001b[39mself\u001b[39m\u001b[39m.\u001b[39mparse_order(response, market)\n",
      "File \u001b[1;32mc:\\Users\\Paulin\\Documents\\Etudes\\4A\\Computer science\\Nouveau dossier\\Projet_4A_Python\\.venv\\Lib\\site-packages\\ccxt\\base\\types.py:28\u001b[0m, in \u001b[0;36mEntry.__init__.<locals>.unbound_method\u001b[1;34m(_self, params)\u001b[0m\n\u001b[0;32m     27\u001b[0m \u001b[39mdef\u001b[39;00m \u001b[39munbound_method\u001b[39m(_self, params\u001b[39m=\u001b[39m{}):\n\u001b[1;32m---> 28\u001b[0m     \u001b[39mreturn\u001b[39;00m _self\u001b[39m.\u001b[39;49mrequest(\u001b[39mself\u001b[39;49m\u001b[39m.\u001b[39;49mpath, \u001b[39mself\u001b[39;49m\u001b[39m.\u001b[39;49mapi, \u001b[39mself\u001b[39;49m\u001b[39m.\u001b[39;49mmethod, params, config\u001b[39m=\u001b[39;49m\u001b[39mself\u001b[39;49m\u001b[39m.\u001b[39;49mconfig)\n",
      "File \u001b[1;32mc:\\Users\\Paulin\\Documents\\Etudes\\4A\\Computer science\\Nouveau dossier\\Projet_4A_Python\\.venv\\Lib\\site-packages\\ccxt\\base\\exchange.py:3198\u001b[0m, in \u001b[0;36mExchange.request\u001b[1;34m(self, path, api, method, params, headers, body, config)\u001b[0m\n\u001b[0;32m   3197\u001b[0m \u001b[39mdef\u001b[39;00m \u001b[39mrequest\u001b[39m(\u001b[39mself\u001b[39m, path, api: Any \u001b[39m=\u001b[39m \u001b[39m'\u001b[39m\u001b[39mpublic\u001b[39m\u001b[39m'\u001b[39m, method\u001b[39m=\u001b[39m\u001b[39m'\u001b[39m\u001b[39mGET\u001b[39m\u001b[39m'\u001b[39m, params\u001b[39m=\u001b[39m{}, headers: Optional[Any] \u001b[39m=\u001b[39m \u001b[39mNone\u001b[39;00m, body: Optional[Any] \u001b[39m=\u001b[39m \u001b[39mNone\u001b[39;00m, config\u001b[39m=\u001b[39m{}):\n\u001b[1;32m-> 3198\u001b[0m     \u001b[39mreturn\u001b[39;00m \u001b[39mself\u001b[39;49m\u001b[39m.\u001b[39;49mfetch2(path, api, method, params, headers, body, config)\n",
      "File \u001b[1;32mc:\\Users\\Paulin\\Documents\\Etudes\\4A\\Computer science\\Nouveau dossier\\Projet_4A_Python\\.venv\\Lib\\site-packages\\ccxt\\base\\exchange.py:3195\u001b[0m, in \u001b[0;36mExchange.fetch2\u001b[1;34m(self, path, api, method, params, headers, body, config)\u001b[0m\n\u001b[0;32m   3193\u001b[0m \u001b[39mself\u001b[39m\u001b[39m.\u001b[39mlast_request_body \u001b[39m=\u001b[39m request[\u001b[39m'\u001b[39m\u001b[39mbody\u001b[39m\u001b[39m'\u001b[39m]\n\u001b[0;32m   3194\u001b[0m \u001b[39mself\u001b[39m\u001b[39m.\u001b[39mlast_request_url \u001b[39m=\u001b[39m request[\u001b[39m'\u001b[39m\u001b[39murl\u001b[39m\u001b[39m'\u001b[39m]\n\u001b[1;32m-> 3195\u001b[0m \u001b[39mreturn\u001b[39;00m \u001b[39mself\u001b[39;49m\u001b[39m.\u001b[39;49mfetch(request[\u001b[39m'\u001b[39;49m\u001b[39murl\u001b[39;49m\u001b[39m'\u001b[39;49m], request[\u001b[39m'\u001b[39;49m\u001b[39mmethod\u001b[39;49m\u001b[39m'\u001b[39;49m], request[\u001b[39m'\u001b[39;49m\u001b[39mheaders\u001b[39;49m\u001b[39m'\u001b[39;49m], request[\u001b[39m'\u001b[39;49m\u001b[39mbody\u001b[39;49m\u001b[39m'\u001b[39;49m])\n",
      "File \u001b[1;32mc:\\Users\\Paulin\\Documents\\Etudes\\4A\\Computer science\\Nouveau dossier\\Projet_4A_Python\\.venv\\Lib\\site-packages\\ccxt\\base\\exchange.py:629\u001b[0m, in \u001b[0;36mExchange.fetch\u001b[1;34m(self, url, method, headers, body)\u001b[0m\n\u001b[0;32m    627\u001b[0m \u001b[39mexcept\u001b[39;00m HTTPError \u001b[39mas\u001b[39;00m e:\n\u001b[0;32m    628\u001b[0m     details \u001b[39m=\u001b[39m \u001b[39m'\u001b[39m\u001b[39m \u001b[39m\u001b[39m'\u001b[39m\u001b[39m.\u001b[39mjoin([\u001b[39mself\u001b[39m\u001b[39m.\u001b[39mid, method, url])\n\u001b[1;32m--> 629\u001b[0m     skip_further_error_handling \u001b[39m=\u001b[39m \u001b[39mself\u001b[39;49m\u001b[39m.\u001b[39;49mhandle_errors(http_status_code, http_status_text, url, method, headers, http_response, json_response, request_headers, request_body)\n\u001b[0;32m    630\u001b[0m     \u001b[39mif\u001b[39;00m \u001b[39mnot\u001b[39;00m skip_further_error_handling:\n\u001b[0;32m    631\u001b[0m         \u001b[39mself\u001b[39m\u001b[39m.\u001b[39mhandle_http_status_code(http_status_code, http_status_text, url, method, http_response)\n",
      "File \u001b[1;32mc:\\Users\\Paulin\\Documents\\Etudes\\4A\\Computer science\\Nouveau dossier\\Projet_4A_Python\\.venv\\Lib\\site-packages\\ccxt\\mexc.py:5070\u001b[0m, in \u001b[0;36mmexc.handle_errors\u001b[1;34m(self, code, reason, url, method, headers, body, response, requestHeaders, requestBody)\u001b[0m\n\u001b[0;32m   5068\u001b[0m     \u001b[39mself\u001b[39m\u001b[39m.\u001b[39mthrow_broadly_matched_exception(\u001b[39mself\u001b[39m\u001b[39m.\u001b[39mexceptions[\u001b[39m'\u001b[39m\u001b[39mbroad\u001b[39m\u001b[39m'\u001b[39m], body, feedback)\n\u001b[0;32m   5069\u001b[0m     \u001b[39mself\u001b[39m\u001b[39m.\u001b[39mthrow_exactly_matched_exception(\u001b[39mself\u001b[39m\u001b[39m.\u001b[39mexceptions[\u001b[39m'\u001b[39m\u001b[39mexact\u001b[39m\u001b[39m'\u001b[39m], responseCode, feedback)\n\u001b[1;32m-> 5070\u001b[0m     \u001b[39mraise\u001b[39;00m ExchangeError(feedback)\n\u001b[0;32m   5071\u001b[0m \u001b[39mreturn\u001b[39;00m \u001b[39mNone\u001b[39;00m\n",
      "\u001b[1;31mExchangeError\u001b[0m: mexc {\"code\":10004,\"msg\":\"symbol not support api\"}"
     ]
    }
   ],
   "source": [
    "exchange.create_order ('SOL/USDC', 'limit', 'buy', 0.6, 10)"
   ]
  },
  {
   "cell_type": "code",
   "execution_count": null,
   "metadata": {},
   "outputs": [],
   "source": []
  }
 ],
 "metadata": {
  "kernelspec": {
   "display_name": ".venv",
   "language": "python",
   "name": "python3"
  },
  "language_info": {
   "codemirror_mode": {
    "name": "ipython",
    "version": 3
   },
   "file_extension": ".py",
   "mimetype": "text/x-python",
   "name": "python",
   "nbconvert_exporter": "python",
   "pygments_lexer": "ipython3",
   "version": "3.11.0"
  }
 },
 "nbformat": 4,
 "nbformat_minor": 2
}
